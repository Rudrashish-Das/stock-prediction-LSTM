{
  "nbformat": 4,
  "nbformat_minor": 0,
  "metadata": {
    "colab": {
      "provenance": []
    },
    "kernelspec": {
      "name": "python3",
      "display_name": "Python 3"
    },
    "accelerator": "GPU",
    "gpuClass": "standard"
  },
  "cells": [
    {
      "cell_type": "markdown",
      "metadata": {
        "id": "view-in-github"
      },
      "source": [
        "<a href=\"https://colab.research.google.com/github/prakharrathi25/Stock-Price-Predictor/blob/master/Alphabet_stock_price.ipynb\" target=\"_parent\"><img src=\"https://colab.research.google.com/assets/colab-badge.svg\" alt=\"Open In Colab\"/></a>"
      ]
    },
    {
      "cell_type": "markdown",
      "metadata": {
        "id": "lZeKcEPAq-s1"
      },
      "source": [
        "# Reccurent Neural Networks using LSTMs"
      ]
    },
    {
      "cell_type": "markdown",
      "metadata": {
        "id": "5dUtMhtCBZvy"
      },
      "source": [
        "## Data Preprocessing"
      ]
    },
    {
      "cell_type": "code",
      "metadata": {
        "id": "6YB7WPrUAzeU"
      },
      "source": [
        "# Importing Necessary libraries \n",
        "import pandas as pd\n",
        "import numpy as np \n",
        "\n",
        "# Data Visualisation \n",
        "import matplotlib.pyplot as plt\n",
        "import seaborn as sns\n",
        "\n",
        "# Deep Learning \n",
        "import keras "
      ],
      "execution_count": 26,
      "outputs": []
    },
    {
      "cell_type": "code",
      "metadata": {
        "id": "k6EwTjeKBdB-"
      },
      "source": [
        "# Uploading File to colab ( comment it out if not using colab )\n",
        "#from google.colab import files\n",
        "\n",
        "#files.upload()"
      ],
      "execution_count": 27,
      "outputs": []
    },
    {
      "cell_type": "code",
      "metadata": {
        "id": "skra86PBB2OU",
        "outputId": "9c469c94-6ce9-4635-f1ad-542b63004d7c",
        "colab": {
          "base_uri": "https://localhost:8080/"
        }
      },
      "source": [
        "# Loading the data into a pandas data frame\n",
        "\n",
        "train_data = pd.read_csv('./Data/Google_Stock_Price_Train.csv')\n",
        "test_data = pd.read_csv('./Data/Google_Stock_Price_Test.csv')\n",
        "print(train_data.shape, test_data.shape)"
      ],
      "execution_count": 28,
      "outputs": [
        {
          "output_type": "stream",
          "name": "stdout",
          "text": [
            "(1258, 6) (20, 6)\n"
          ]
        }
      ]
    },
    {
      "cell_type": "code",
      "metadata": {
        "id": "OQ-K-oFgE0rO",
        "outputId": "4017d580-dc0d-4293-e030-a180d30320f7",
        "colab": {
          "base_uri": "https://localhost:8080/",
          "height": 206
        }
      },
      "source": [
        "train_data.head()"
      ],
      "execution_count": 29,
      "outputs": [
        {
          "output_type": "execute_result",
          "data": {
            "text/plain": [
              "       Date    Open    High     Low   Close      Volume\n",
              "0  1/3/2012  325.25  332.83  324.97  663.59   7,380,500\n",
              "1  1/4/2012  331.27  333.87  329.08  666.45   5,749,400\n",
              "2  1/5/2012  329.83  330.75  326.89  657.21   6,590,300\n",
              "3  1/6/2012  328.34  328.77  323.68  648.24   5,405,900\n",
              "4  1/9/2012  322.04  322.29  309.46  620.76  11,688,800"
            ],
            "text/html": [
              "\n",
              "  <div id=\"df-7b6d243f-1844-4022-b0ea-1ae36e5ab9a7\">\n",
              "    <div class=\"colab-df-container\">\n",
              "      <div>\n",
              "<style scoped>\n",
              "    .dataframe tbody tr th:only-of-type {\n",
              "        vertical-align: middle;\n",
              "    }\n",
              "\n",
              "    .dataframe tbody tr th {\n",
              "        vertical-align: top;\n",
              "    }\n",
              "\n",
              "    .dataframe thead th {\n",
              "        text-align: right;\n",
              "    }\n",
              "</style>\n",
              "<table border=\"1\" class=\"dataframe\">\n",
              "  <thead>\n",
              "    <tr style=\"text-align: right;\">\n",
              "      <th></th>\n",
              "      <th>Date</th>\n",
              "      <th>Open</th>\n",
              "      <th>High</th>\n",
              "      <th>Low</th>\n",
              "      <th>Close</th>\n",
              "      <th>Volume</th>\n",
              "    </tr>\n",
              "  </thead>\n",
              "  <tbody>\n",
              "    <tr>\n",
              "      <th>0</th>\n",
              "      <td>1/3/2012</td>\n",
              "      <td>325.25</td>\n",
              "      <td>332.83</td>\n",
              "      <td>324.97</td>\n",
              "      <td>663.59</td>\n",
              "      <td>7,380,500</td>\n",
              "    </tr>\n",
              "    <tr>\n",
              "      <th>1</th>\n",
              "      <td>1/4/2012</td>\n",
              "      <td>331.27</td>\n",
              "      <td>333.87</td>\n",
              "      <td>329.08</td>\n",
              "      <td>666.45</td>\n",
              "      <td>5,749,400</td>\n",
              "    </tr>\n",
              "    <tr>\n",
              "      <th>2</th>\n",
              "      <td>1/5/2012</td>\n",
              "      <td>329.83</td>\n",
              "      <td>330.75</td>\n",
              "      <td>326.89</td>\n",
              "      <td>657.21</td>\n",
              "      <td>6,590,300</td>\n",
              "    </tr>\n",
              "    <tr>\n",
              "      <th>3</th>\n",
              "      <td>1/6/2012</td>\n",
              "      <td>328.34</td>\n",
              "      <td>328.77</td>\n",
              "      <td>323.68</td>\n",
              "      <td>648.24</td>\n",
              "      <td>5,405,900</td>\n",
              "    </tr>\n",
              "    <tr>\n",
              "      <th>4</th>\n",
              "      <td>1/9/2012</td>\n",
              "      <td>322.04</td>\n",
              "      <td>322.29</td>\n",
              "      <td>309.46</td>\n",
              "      <td>620.76</td>\n",
              "      <td>11,688,800</td>\n",
              "    </tr>\n",
              "  </tbody>\n",
              "</table>\n",
              "</div>\n",
              "      <button class=\"colab-df-convert\" onclick=\"convertToInteractive('df-7b6d243f-1844-4022-b0ea-1ae36e5ab9a7')\"\n",
              "              title=\"Convert this dataframe to an interactive table.\"\n",
              "              style=\"display:none;\">\n",
              "        \n",
              "  <svg xmlns=\"http://www.w3.org/2000/svg\" height=\"24px\"viewBox=\"0 0 24 24\"\n",
              "       width=\"24px\">\n",
              "    <path d=\"M0 0h24v24H0V0z\" fill=\"none\"/>\n",
              "    <path d=\"M18.56 5.44l.94 2.06.94-2.06 2.06-.94-2.06-.94-.94-2.06-.94 2.06-2.06.94zm-11 1L8.5 8.5l.94-2.06 2.06-.94-2.06-.94L8.5 2.5l-.94 2.06-2.06.94zm10 10l.94 2.06.94-2.06 2.06-.94-2.06-.94-.94-2.06-.94 2.06-2.06.94z\"/><path d=\"M17.41 7.96l-1.37-1.37c-.4-.4-.92-.59-1.43-.59-.52 0-1.04.2-1.43.59L10.3 9.45l-7.72 7.72c-.78.78-.78 2.05 0 2.83L4 21.41c.39.39.9.59 1.41.59.51 0 1.02-.2 1.41-.59l7.78-7.78 2.81-2.81c.8-.78.8-2.07 0-2.86zM5.41 20L4 18.59l7.72-7.72 1.47 1.35L5.41 20z\"/>\n",
              "  </svg>\n",
              "      </button>\n",
              "      \n",
              "  <style>\n",
              "    .colab-df-container {\n",
              "      display:flex;\n",
              "      flex-wrap:wrap;\n",
              "      gap: 12px;\n",
              "    }\n",
              "\n",
              "    .colab-df-convert {\n",
              "      background-color: #E8F0FE;\n",
              "      border: none;\n",
              "      border-radius: 50%;\n",
              "      cursor: pointer;\n",
              "      display: none;\n",
              "      fill: #1967D2;\n",
              "      height: 32px;\n",
              "      padding: 0 0 0 0;\n",
              "      width: 32px;\n",
              "    }\n",
              "\n",
              "    .colab-df-convert:hover {\n",
              "      background-color: #E2EBFA;\n",
              "      box-shadow: 0px 1px 2px rgba(60, 64, 67, 0.3), 0px 1px 3px 1px rgba(60, 64, 67, 0.15);\n",
              "      fill: #174EA6;\n",
              "    }\n",
              "\n",
              "    [theme=dark] .colab-df-convert {\n",
              "      background-color: #3B4455;\n",
              "      fill: #D2E3FC;\n",
              "    }\n",
              "\n",
              "    [theme=dark] .colab-df-convert:hover {\n",
              "      background-color: #434B5C;\n",
              "      box-shadow: 0px 1px 3px 1px rgba(0, 0, 0, 0.15);\n",
              "      filter: drop-shadow(0px 1px 2px rgba(0, 0, 0, 0.3));\n",
              "      fill: #FFFFFF;\n",
              "    }\n",
              "  </style>\n",
              "\n",
              "      <script>\n",
              "        const buttonEl =\n",
              "          document.querySelector('#df-7b6d243f-1844-4022-b0ea-1ae36e5ab9a7 button.colab-df-convert');\n",
              "        buttonEl.style.display =\n",
              "          google.colab.kernel.accessAllowed ? 'block' : 'none';\n",
              "\n",
              "        async function convertToInteractive(key) {\n",
              "          const element = document.querySelector('#df-7b6d243f-1844-4022-b0ea-1ae36e5ab9a7');\n",
              "          const dataTable =\n",
              "            await google.colab.kernel.invokeFunction('convertToInteractive',\n",
              "                                                     [key], {});\n",
              "          if (!dataTable) return;\n",
              "\n",
              "          const docLinkHtml = 'Like what you see? Visit the ' +\n",
              "            '<a target=\"_blank\" href=https://colab.research.google.com/notebooks/data_table.ipynb>data table notebook</a>'\n",
              "            + ' to learn more about interactive tables.';\n",
              "          element.innerHTML = '';\n",
              "          dataTable['output_type'] = 'display_data';\n",
              "          await google.colab.output.renderOutput(dataTable, element);\n",
              "          const docLink = document.createElement('div');\n",
              "          docLink.innerHTML = docLinkHtml;\n",
              "          element.appendChild(docLink);\n",
              "        }\n",
              "      </script>\n",
              "    </div>\n",
              "  </div>\n",
              "  "
            ]
          },
          "metadata": {},
          "execution_count": 29
        }
      ]
    },
    {
      "cell_type": "code",
      "metadata": {
        "id": "qU2YbBi3FTNC",
        "outputId": "d0c75fd8-c7ff-41ab-faea-74dbb0f7496e",
        "colab": {
          "base_uri": "https://localhost:8080/",
          "height": 265
        }
      },
      "source": [
        "plt.plot(train_data['Date'], train_data['Open'])\n",
        "plt.show()"
      ],
      "execution_count": 30,
      "outputs": [
        {
          "output_type": "display_data",
          "data": {
            "text/plain": [
              "<Figure size 432x288 with 1 Axes>"
            ],
            "image/png": "[encoded data removed]"
          },
          "metadata": {
            "needs_background": "light"
          }
        }
      ]
    },
    {
      "cell_type": "code",
      "metadata": {
        "id": "ufrZLzLpT9ay",
        "outputId": "377c0c41-7b28-4d5d-8a55-07c12b21e8e9",
        "colab": {
          "base_uri": "https://localhost:8080/"
        }
      },
      "source": [
        "# Creating an 2Dnumpy array of all the data of column open\n",
        "train_set = train_data.iloc[:, 1:2].values\n",
        "print(type(train_set))"
      ],
      "execution_count": 31,
      "outputs": [
        {
          "output_type": "stream",
          "name": "stdout",
          "text": [
            "<class 'numpy.ndarray'>\n"
          ]
        }
      ]
    },
    {
      "cell_type": "code",
      "metadata": {
        "id": "7h_1bG-AbR-j",
        "outputId": "0a217d36-0379-44c7-a12c-b5da1e23eb5f",
        "colab": {
          "base_uri": "https://localhost:8080/"
        }
      },
      "source": [
        "# Feature Scaling \n",
        "from sklearn.preprocessing import MinMaxScaler\n",
        "\n",
        "scaler = MinMaxScaler(feature_range = (0, 1))\n",
        "scaled_data = scaler.fit_transform(train_set)\n",
        "print(scaled_data)"
      ],
      "execution_count": 32,
      "outputs": [
        {
          "output_type": "stream",
          "name": "stdout",
          "text": [
            "[[0.08581368]\n",
            " [0.09701243]\n",
            " [0.09433366]\n",
            " ...\n",
            " [0.95725128]\n",
            " [0.93796041]\n",
            " [0.93688146]]\n"
          ]
        }
      ]
    },
    {
      "cell_type": "code",
      "metadata": {
        "id": "mQFZSEwW1u88"
      },
      "source": [
        "# Creating a data structure with 60 timesteps and 1 output\n",
        "\n",
        "X_train = []\n",
        "y_train = []\n",
        "\n",
        "for i in range(60, 1258):\n",
        "    X_train.append(scaled_data[i - 60 : i, 0])\n",
        "#     X_train = scaled_data[i-60 : i, 0]\n",
        "#     y_train = scaled_data[i:i+1, 0]\n",
        "    y_train.append(scaled_data[i, 0])\n",
        "\n",
        "X_train, y_train = np.array(X_train), np.array(y_train)"
      ],
      "execution_count": 33,
      "outputs": []
    },
    {
      "cell_type": "code",
      "metadata": {
        "id": "_8cBTshBAmaR",
        "outputId": "27eaf9c1-754c-4cbb-bd09-b951e667a0b9",
        "colab": {
          "base_uri": "https://localhost:8080/"
        }
      },
      "source": [
        "# Reshaping the data - used to add a new dimension to the data\n",
        "\n",
        "'''Input shape: 3D tensor with shape (batch_size, timesteps, input_dim)'''\n",
        "\n",
        "batch_size = X_train.shape[0]\n",
        "timesteps = 60\n",
        "no_of_predictors = 1 # input_dim\n",
        "X_train = np.reshape(X_train, (batch_size, timesteps, no_of_predictors))\n",
        "print(X_train.shape)\n",
        "X_train"
      ],
      "execution_count": 34,
      "outputs": [
        {
          "output_type": "stream",
          "name": "stdout",
          "text": [
            "(1198, 60, 1)\n"
          ]
        },
        {
          "output_type": "execute_result",
          "data": {
            "text/plain": [
              "array([[[0.08581368],\n",
              "        [0.09701243],\n",
              "        [0.09433366],\n",
              "        ...,\n",
              "        [0.07846566],\n",
              "        [0.08034452],\n",
              "        [0.08497656]],\n",
              "\n",
              "       [[0.09701243],\n",
              "        [0.09433366],\n",
              "        [0.09156187],\n",
              "        ...,\n",
              "        [0.08034452],\n",
              "        [0.08497656],\n",
              "        [0.08627874]],\n",
              "\n",
              "       [[0.09433366],\n",
              "        [0.09156187],\n",
              "        [0.07984225],\n",
              "        ...,\n",
              "        [0.08497656],\n",
              "        [0.08627874],\n",
              "        [0.08471612]],\n",
              "\n",
              "       ...,\n",
              "\n",
              "       [[0.92106928],\n",
              "        [0.92438053],\n",
              "        [0.93048218],\n",
              "        ...,\n",
              "        [0.95475854],\n",
              "        [0.95204256],\n",
              "        [0.95163331]],\n",
              "\n",
              "       [[0.92438053],\n",
              "        [0.93048218],\n",
              "        [0.9299055 ],\n",
              "        ...,\n",
              "        [0.95204256],\n",
              "        [0.95163331],\n",
              "        [0.95725128]],\n",
              "\n",
              "       [[0.93048218],\n",
              "        [0.9299055 ],\n",
              "        [0.93113327],\n",
              "        ...,\n",
              "        [0.95163331],\n",
              "        [0.95725128],\n",
              "        [0.93796041]]])"
            ]
          },
          "metadata": {},
          "execution_count": 34
        }
      ]
    },
    {
      "cell_type": "markdown",
      "metadata": {
        "id": "oo6PZbcLPenq"
      },
      "source": [
        "## Building the RNN"
      ]
    },
    {
      "cell_type": "code",
      "metadata": {
        "id": "yLaSbYX4NUzV"
      },
      "source": [
        "# Importing the Keras libraries\n",
        "from keras.models import Sequential\n",
        "from keras.layers import Dense, LSTM, Dropout"
      ],
      "execution_count": 35,
      "outputs": []
    },
    {
      "cell_type": "code",
      "metadata": {
        "id": "KLjdvYNQPud-"
      },
      "source": [
        "# Building our regressor\n",
        "regressor = Sequential()\n",
        "\n",
        "# Adding the first LSTM layer and a dropout regularisation layer\n",
        "regressor.add(LSTM(units = 60, \n",
        "                  return_sequences = True, \n",
        "                  input_shape = (X_train.shape[1], 1)))\n",
        "\n",
        "# Dropout regularisation \n",
        "regressor.add(Dropout(rate = 0.2)) # 20% dropout"
      ],
      "execution_count": 36,
      "outputs": []
    },
    {
      "cell_type": "code",
      "metadata": {
        "id": "-jsOBHpeUupO"
      },
      "source": [
        "# Adding the second LSTM layer and a dropout regularisation \n",
        "regressor.add(LSTM(units = 60, return_sequences = True))\n",
        "regressor.add(Dropout(rate = 0.2)) \n",
        "              "
      ],
      "execution_count": 37,
      "outputs": []
    },
    {
      "cell_type": "code",
      "metadata": {
        "id": "xCE79-AbnN4V"
      },
      "source": [
        "# Adding the third LSTM layer and dropout regularisation \n",
        "regressor.add(LSTM(units = 60, return_sequences = True))\n",
        "regressor.add(Dropout(rate = 0.2)) "
      ],
      "execution_count": 38,
      "outputs": []
    },
    {
      "cell_type": "code",
      "metadata": {
        "id": "HvQeUpEjnZ5a"
      },
      "source": [
        "# Adding the fourth LSTM layer and dropout regularisation \n",
        "regressor.add(LSTM(units = 60, return_sequences = False))\n",
        "regressor.add(Dropout(rate = 0.2)) "
      ],
      "execution_count": 39,
      "outputs": []
    },
    {
      "cell_type": "code",
      "metadata": {
        "id": "Fqo0Kuf6nrE-"
      },
      "source": [
        "# Adding the output layer\n",
        "regressor.add(Dense(units = 1))"
      ],
      "execution_count": 40,
      "outputs": []
    },
    {
      "cell_type": "code",
      "metadata": {
        "id": "ocRt2OtbpnbN"
      },
      "source": [
        "# Compiling our RNN \n",
        "regressor.compile(optimizer = 'adam', loss = 'mean_squared_error')"
      ],
      "execution_count": 41,
      "outputs": []
    },
    {
      "cell_type": "code",
      "metadata": {
        "id": "dRM_hIjosAGU",
        "outputId": "185584f3-a8b4-4ce2-bb7f-a7fbe6b0553f",
        "colab": {
          "base_uri": "https://localhost:8080/"
        }
      },
      "source": [
        "# Fitting the RNN to the Training Set\n",
        "regressor.fit(X_train, y_train, epochs = 100, batch_size = 32)"
      ],
      "execution_count": 42,
      "outputs": [
        {
          "output_type": "stream",
          "name": "stdout",
          "text": [
            "Epoch 1/100\n",
            "38/38 [==============================] - 6s 15ms/step - loss: 0.0393\n",
            "Epoch 2/100\n",
            "38/38 [==============================] - 1s 13ms/step - loss: 0.0059\n",
            "Epoch 3/100\n",
            "38/38 [==============================] - 0s 13ms/step - loss: 0.0048\n",
            "Epoch 4/100\n",
            "38/38 [==============================] - 0s 13ms/step - loss: 0.0047\n",
            "Epoch 5/100\n",
            "38/38 [==============================] - 1s 13ms/step - loss: 0.0041\n",
            "Epoch 6/100\n",
            "38/38 [==============================] - 0s 13ms/step - loss: 0.0042\n",
            "Epoch 7/100\n",
            "38/38 [==============================] - 0s 13ms/step - loss: 0.0041\n",
            "Epoch 8/100\n",
            "38/38 [==============================] - 0s 13ms/step - loss: 0.0041\n",
            "Epoch 9/100\n",
            "38/38 [==============================] - 1s 13ms/step - loss: 0.0039\n",
            "Epoch 10/100\n",
            "38/38 [==============================] - 1s 13ms/step - loss: 0.0037\n",
            "Epoch 11/100\n",
            "38/38 [==============================] - 1s 13ms/step - loss: 0.0040\n",
            "Epoch 12/100\n",
            "38/38 [==============================] - 1s 13ms/step - loss: 0.0041\n",
            "Epoch 13/100\n",
            "38/38 [==============================] - 1s 13ms/step - loss: 0.0035\n",
            "Epoch 14/100\n",
            "38/38 [==============================] - 1s 13ms/step - loss: 0.0035\n",
            "Epoch 15/100\n",
            "38/38 [==============================] - 1s 14ms/step - loss: 0.0034\n",
            "Epoch 16/100\n",
            "38/38 [==============================] - 0s 13ms/step - loss: 0.0043\n",
            "Epoch 17/100\n",
            "38/38 [==============================] - 0s 13ms/step - loss: 0.0035\n",
            "Epoch 18/100\n",
            "38/38 [==============================] - 0s 13ms/step - loss: 0.0035\n",
            "Epoch 19/100\n",
            "38/38 [==============================] - 1s 13ms/step - loss: 0.0032\n",
            "Epoch 20/100\n",
            "38/38 [==============================] - 0s 13ms/step - loss: 0.0036\n",
            "Epoch 21/100\n",
            "38/38 [==============================] - 1s 13ms/step - loss: 0.0040\n",
            "Epoch 22/100\n",
            "38/38 [==============================] - 1s 13ms/step - loss: 0.0031\n",
            "Epoch 23/100\n",
            "38/38 [==============================] - 1s 13ms/step - loss: 0.0031\n",
            "Epoch 24/100\n",
            "38/38 [==============================] - 1s 13ms/step - loss: 0.0028\n",
            "Epoch 25/100\n",
            "38/38 [==============================] - 1s 14ms/step - loss: 0.0028\n",
            "Epoch 26/100\n",
            "38/38 [==============================] - 0s 13ms/step - loss: 0.0031\n",
            "Epoch 27/100\n",
            "38/38 [==============================] - 1s 13ms/step - loss: 0.0031\n",
            "Epoch 28/100\n",
            "38/38 [==============================] - 1s 13ms/step - loss: 0.0031\n",
            "Epoch 29/100\n",
            "38/38 [==============================] - 1s 13ms/step - loss: 0.0027\n",
            "Epoch 30/100\n",
            "38/38 [==============================] - 1s 13ms/step - loss: 0.0028\n",
            "Epoch 31/100\n",
            "38/38 [==============================] - 1s 14ms/step - loss: 0.0025\n",
            "Epoch 32/100\n",
            "38/38 [==============================] - 0s 13ms/step - loss: 0.0029\n",
            "Epoch 33/100\n",
            "38/38 [==============================] - 1s 14ms/step - loss: 0.0029\n",
            "Epoch 34/100\n",
            "38/38 [==============================] - 0s 13ms/step - loss: 0.0028\n",
            "Epoch 35/100\n",
            "38/38 [==============================] - 1s 13ms/step - loss: 0.0025\n",
            "Epoch 36/100\n",
            "38/38 [==============================] - 1s 13ms/step - loss: 0.0025\n",
            "Epoch 37/100\n",
            "38/38 [==============================] - 1s 14ms/step - loss: 0.0024\n",
            "Epoch 38/100\n",
            "38/38 [==============================] - 1s 14ms/step - loss: 0.0024\n",
            "Epoch 39/100\n",
            "38/38 [==============================] - 0s 13ms/step - loss: 0.0023\n",
            "Epoch 40/100\n",
            "38/38 [==============================] - 0s 13ms/step - loss: 0.0026\n",
            "Epoch 41/100\n",
            "38/38 [==============================] - 1s 13ms/step - loss: 0.0026\n",
            "Epoch 42/100\n",
            "38/38 [==============================] - 0s 13ms/step - loss: 0.0024\n",
            "Epoch 43/100\n",
            "38/38 [==============================] - 1s 13ms/step - loss: 0.0024\n",
            "Epoch 44/100\n",
            "38/38 [==============================] - 0s 13ms/step - loss: 0.0022\n",
            "Epoch 45/100\n",
            "38/38 [==============================] - 1s 13ms/step - loss: 0.0022\n",
            "Epoch 46/100\n",
            "38/38 [==============================] - 1s 13ms/step - loss: 0.0022\n",
            "Epoch 47/100\n",
            "38/38 [==============================] - 1s 13ms/step - loss: 0.0023\n",
            "Epoch 48/100\n",
            "38/38 [==============================] - 1s 13ms/step - loss: 0.0028\n",
            "Epoch 49/100\n",
            "38/38 [==============================] - 1s 13ms/step - loss: 0.0023\n",
            "Epoch 50/100\n",
            "38/38 [==============================] - 1s 13ms/step - loss: 0.0021\n",
            "Epoch 51/100\n",
            "38/38 [==============================] - 1s 13ms/step - loss: 0.0020\n",
            "Epoch 52/100\n",
            "38/38 [==============================] - 0s 13ms/step - loss: 0.0021\n",
            "Epoch 53/100\n",
            "38/38 [==============================] - 1s 14ms/step - loss: 0.0020\n",
            "Epoch 54/100\n",
            "38/38 [==============================] - 0s 13ms/step - loss: 0.0021\n",
            "Epoch 55/100\n",
            "38/38 [==============================] - 1s 13ms/step - loss: 0.0024\n",
            "Epoch 56/100\n",
            "38/38 [==============================] - 1s 13ms/step - loss: 0.0022\n",
            "Epoch 57/100\n",
            "38/38 [==============================] - 1s 14ms/step - loss: 0.0021\n",
            "Epoch 58/100\n",
            "38/38 [==============================] - 1s 13ms/step - loss: 0.0018\n",
            "Epoch 59/100\n",
            "38/38 [==============================] - 1s 14ms/step - loss: 0.0018\n",
            "Epoch 60/100\n",
            "38/38 [==============================] - 1s 14ms/step - loss: 0.0023\n",
            "Epoch 61/100\n",
            "38/38 [==============================] - 1s 13ms/step - loss: 0.0018\n",
            "Epoch 62/100\n",
            "38/38 [==============================] - 1s 13ms/step - loss: 0.0017\n",
            "Epoch 63/100\n",
            "38/38 [==============================] - 1s 14ms/step - loss: 0.0016\n",
            "Epoch 64/100\n",
            "38/38 [==============================] - 1s 13ms/step - loss: 0.0018\n",
            "Epoch 65/100\n",
            "38/38 [==============================] - 1s 13ms/step - loss: 0.0017\n",
            "Epoch 66/100\n",
            "38/38 [==============================] - 1s 13ms/step - loss: 0.0016\n",
            "Epoch 67/100\n",
            "38/38 [==============================] - 0s 13ms/step - loss: 0.0020\n",
            "Epoch 68/100\n",
            "38/38 [==============================] - 1s 13ms/step - loss: 0.0018\n",
            "Epoch 69/100\n",
            "38/38 [==============================] - 1s 14ms/step - loss: 0.0018\n",
            "Epoch 70/100\n",
            "38/38 [==============================] - 1s 14ms/step - loss: 0.0018\n",
            "Epoch 71/100\n",
            "38/38 [==============================] - 1s 14ms/step - loss: 0.0018\n",
            "Epoch 72/100\n",
            "38/38 [==============================] - 1s 13ms/step - loss: 0.0016\n",
            "Epoch 73/100\n",
            "38/38 [==============================] - 1s 13ms/step - loss: 0.0017\n",
            "Epoch 74/100\n",
            "38/38 [==============================] - 1s 13ms/step - loss: 0.0017\n",
            "Epoch 75/100\n",
            "38/38 [==============================] - 1s 13ms/step - loss: 0.0018\n",
            "Epoch 76/100\n",
            "38/38 [==============================] - 0s 13ms/step - loss: 0.0016\n",
            "Epoch 77/100\n",
            "38/38 [==============================] - 1s 13ms/step - loss: 0.0017\n",
            "Epoch 78/100\n",
            "38/38 [==============================] - 1s 13ms/step - loss: 0.0017\n",
            "Epoch 79/100\n",
            "38/38 [==============================] - 1s 13ms/step - loss: 0.0016\n",
            "Epoch 80/100\n",
            "38/38 [==============================] - 1s 13ms/step - loss: 0.0015\n",
            "Epoch 81/100\n",
            "38/38 [==============================] - 1s 14ms/step - loss: 0.0015\n",
            "Epoch 82/100\n",
            "38/38 [==============================] - 1s 13ms/step - loss: 0.0015\n",
            "Epoch 83/100\n",
            "38/38 [==============================] - 1s 13ms/step - loss: 0.0014\n",
            "Epoch 84/100\n",
            "38/38 [==============================] - 1s 14ms/step - loss: 0.0016\n",
            "Epoch 85/100\n",
            "38/38 [==============================] - 1s 14ms/step - loss: 0.0013\n",
            "Epoch 86/100\n",
            "38/38 [==============================] - 1s 13ms/step - loss: 0.0014\n",
            "Epoch 87/100\n",
            "38/38 [==============================] - 1s 14ms/step - loss: 0.0014\n",
            "Epoch 88/100\n",
            "38/38 [==============================] - 1s 13ms/step - loss: 0.0017\n",
            "Epoch 89/100\n",
            "38/38 [==============================] - 1s 13ms/step - loss: 0.0014\n",
            "Epoch 90/100\n",
            "38/38 [==============================] - 1s 13ms/step - loss: 0.0015\n",
            "Epoch 91/100\n",
            "38/38 [==============================] - 1s 13ms/step - loss: 0.0013\n",
            "Epoch 92/100\n",
            "38/38 [==============================] - 0s 13ms/step - loss: 0.0015\n",
            "Epoch 93/100\n",
            "38/38 [==============================] - 1s 13ms/step - loss: 0.0019\n",
            "Epoch 94/100\n",
            "38/38 [==============================] - 1s 13ms/step - loss: 0.0016\n",
            "Epoch 95/100\n",
            "38/38 [==============================] - 1s 13ms/step - loss: 0.0013\n",
            "Epoch 96/100\n",
            "38/38 [==============================] - 1s 13ms/step - loss: 0.0013\n",
            "Epoch 97/100\n",
            "38/38 [==============================] - 1s 13ms/step - loss: 0.0016\n",
            "Epoch 98/100\n",
            "38/38 [==============================] - 0s 13ms/step - loss: 0.0014\n",
            "Epoch 99/100\n",
            "38/38 [==============================] - 1s 14ms/step - loss: 0.0013\n",
            "Epoch 100/100\n",
            "38/38 [==============================] - 0s 13ms/step - loss: 0.0012\n"
          ]
        },
        {
          "output_type": "execute_result",
          "data": {
            "text/plain": [
              "<keras.callbacks.History at 0x7f5ef1494410>"
            ]
          },
          "metadata": {},
          "execution_count": 42
        }
      ]
    },
    {
      "cell_type": "markdown",
      "metadata": {
        "id": "4f5UWTZDq21S"
      },
      "source": [
        "## Predicting the results on our test dataset"
      ]
    },
    {
      "cell_type": "code",
      "metadata": {
        "id": "ETkAL0YfwGSS",
        "outputId": "e831312d-ed5f-4ff0-d29d-b43938c36764",
        "colab": {
          "base_uri": "https://localhost:8080/"
        }
      },
      "source": [
        "# Getting the real Google stock price of 2017 from the test set\n",
        "real_stock_price = test_data.iloc[:, 1:2].values\n",
        "print(real_stock_price)"
      ],
      "execution_count": 43,
      "outputs": [
        {
          "output_type": "stream",
          "name": "stdout",
          "text": [
            "[[778.81]\n",
            " [788.36]\n",
            " [786.08]\n",
            " [795.26]\n",
            " [806.4 ]\n",
            " [807.86]\n",
            " [805.  ]\n",
            " [807.14]\n",
            " [807.48]\n",
            " [807.08]\n",
            " [805.81]\n",
            " [805.12]\n",
            " [806.91]\n",
            " [807.25]\n",
            " [822.3 ]\n",
            " [829.62]\n",
            " [837.81]\n",
            " [834.71]\n",
            " [814.66]\n",
            " [796.86]]\n"
          ]
        }
      ]
    },
    {
      "cell_type": "code",
      "metadata": {
        "id": "OXE5R4L6wPjL",
        "outputId": "d2525afd-28b3-4073-edfd-ce13b17eccd1",
        "colab": {
          "base_uri": "https://localhost:8080/"
        }
      },
      "source": [
        "# Getting the predicted stock price \n",
        "\n",
        "# Concatenate the train and test data of open stock price\n",
        "total_data = pd.concat((train_data['Open'], test_data['Open']), axis = 0)\n",
        "inputs = total_data[len(total_data) - len(test_data) - 60:].values\n",
        "\n",
        "# Reshaping the input array \n",
        "inputs = inputs.reshape(-1, 1)\n",
        "\n",
        "# Scaling the input data\n",
        "inputs = scaler.transform(inputs)\n",
        "inputs"
      ],
      "execution_count": 45,
      "outputs": [
        {
          "output_type": "execute_result",
          "data": {
            "text/plain": [
              "array([[0.9299055 ],\n",
              "       [0.93113327],\n",
              "       [0.92750577],\n",
              "       [0.94415507],\n",
              "       [0.93876032],\n",
              "       [0.93403527],\n",
              "       [0.93483518],\n",
              "       [0.9313937 ],\n",
              "       [0.94636878],\n",
              "       [0.96569685],\n",
              "       [0.97510976],\n",
              "       [0.95966962],\n",
              "       [0.97808617],\n",
              "       [1.        ],\n",
              "       [0.98076494],\n",
              "       [0.97083116],\n",
              "       [0.98450406],\n",
              "       [0.96054394],\n",
              "       [0.9371419 ],\n",
              "       [0.92841729],\n",
              "       [0.90804747],\n",
              "       [0.8771858 ],\n",
              "       [0.92153434],\n",
              "       [0.93809063],\n",
              "       [0.93165414],\n",
              "       [0.95254483],\n",
              "       [0.88812412],\n",
              "       [0.88637547],\n",
              "       [0.87032145],\n",
              "       [0.88563137],\n",
              "       [0.90743359],\n",
              "       [0.91571173],\n",
              "       [0.89941588],\n",
              "       [0.91805566],\n",
              "       [0.9089404 ],\n",
              "       [0.9024853 ],\n",
              "       [0.89456061],\n",
              "       [0.91600938],\n",
              "       [0.9132934 ],\n",
              "       [0.88979835],\n",
              "       [0.86589404],\n",
              "       [0.89030062],\n",
              "       [0.90335962],\n",
              "       [0.89642086],\n",
              "       [0.91777662],\n",
              "       [0.93176576],\n",
              "       [0.94114145],\n",
              "       [0.95762334],\n",
              "       [0.96413424],\n",
              "       [0.96402262],\n",
              "       [0.96971501],\n",
              "       [0.95077759],\n",
              "       [0.96294367],\n",
              "       [0.96123223],\n",
              "       [0.95475854],\n",
              "       [0.95204256],\n",
              "       [0.95163331],\n",
              "       [0.95725128],\n",
              "       [0.93796041],\n",
              "       [0.93688146],\n",
              "       [0.92955205],\n",
              "       [0.94731751],\n",
              "       [0.94307612],\n",
              "       [0.96015329],\n",
              "       [0.98087655],\n",
              "       [0.98359253],\n",
              "       [0.97827219],\n",
              "       [0.98225314],\n",
              "       [0.98288563],\n",
              "       [0.98214153],\n",
              "       [0.979779  ],\n",
              "       [0.97849542],\n",
              "       [0.98182528],\n",
              "       [0.98245777],\n",
              "       [1.01045465],\n",
              "       [1.02407173],\n",
              "       [1.03930724],\n",
              "       [1.03354044],\n",
              "       [0.99624228],\n",
              "       [0.9631297 ]])"
            ]
          },
          "metadata": {},
          "execution_count": 45
        }
      ]
    },
    {
      "cell_type": "code",
      "metadata": {
        "id": "mcXf5Pzfwqj-",
        "outputId": "ef124cb7-92a1-4152-c107-09a7066898dc",
        "colab": {
          "base_uri": "https://localhost:8080/"
        }
      },
      "source": [
        "# Making our predictions \n",
        "\n",
        "X_test = []\n",
        "for i in range(60, 80): \n",
        "    X_test.append(inputs[i - 60 : i, 0])\n",
        "X_test = np.array(X_test)\n",
        "X_test = np.reshape(X_test, (X_test.shape[0], X_test.shape[1], 1))\n",
        "print(X_test)"
      ],
      "execution_count": 46,
      "outputs": [
        {
          "output_type": "stream",
          "name": "stdout",
          "text": [
            "[[[0.9299055 ]\n",
            "  [0.93113327]\n",
            "  [0.92750577]\n",
            "  ...\n",
            "  [0.95725128]\n",
            "  [0.93796041]\n",
            "  [0.93688146]]\n",
            "\n",
            " [[0.93113327]\n",
            "  [0.92750577]\n",
            "  [0.94415507]\n",
            "  ...\n",
            "  [0.93796041]\n",
            "  [0.93688146]\n",
            "  [0.92955205]]\n",
            "\n",
            " [[0.92750577]\n",
            "  [0.94415507]\n",
            "  [0.93876032]\n",
            "  ...\n",
            "  [0.93688146]\n",
            "  [0.92955205]\n",
            "  [0.94731751]]\n",
            "\n",
            " ...\n",
            "\n",
            " [[0.96054394]\n",
            "  [0.9371419 ]\n",
            "  [0.92841729]\n",
            "  ...\n",
            "  [1.01045465]\n",
            "  [1.02407173]\n",
            "  [1.03930724]]\n",
            "\n",
            " [[0.9371419 ]\n",
            "  [0.92841729]\n",
            "  [0.90804747]\n",
            "  ...\n",
            "  [1.02407173]\n",
            "  [1.03930724]\n",
            "  [1.03354044]]\n",
            "\n",
            " [[0.92841729]\n",
            "  [0.90804747]\n",
            "  [0.8771858 ]\n",
            "  ...\n",
            "  [1.03930724]\n",
            "  [1.03354044]\n",
            "  [0.99624228]]]\n"
          ]
        }
      ]
    },
    {
      "cell_type": "code",
      "metadata": {
        "id": "vWSEOA2Q-lL8",
        "outputId": "f61dac71-e35d-4c1b-f02a-0f7172beb46d",
        "colab": {
          "base_uri": "https://localhost:8080/"
        }
      },
      "source": [
        "# Making predictions\n",
        "predicted_stock_price = regressor.predict(X_test)\n",
        "predicted_stock_price = scaler.inverse_transform(predicted_stock_price)\n",
        "predicted_stock_price"
      ],
      "execution_count": 47,
      "outputs": [
        {
          "output_type": "stream",
          "name": "stdout",
          "text": [
            "1/1 [==============================] - 1s 1s/step\n"
          ]
        },
        {
          "output_type": "execute_result",
          "data": {
            "text/plain": [
              "array([[774.6921 ],\n",
              "       [772.0127 ],\n",
              "       [773.4901 ],\n",
              "       [775.0438 ],\n",
              "       [778.61096],\n",
              "       [784.80304],\n",
              "       [789.29956],\n",
              "       [790.01825],\n",
              "       [790.00616],\n",
              "       [790.1221 ],\n",
              "       [790.3202 ],\n",
              "       [790.2676 ],\n",
              "       [790.1636 ],\n",
              "       [790.8872 ],\n",
              "       [791.81396],\n",
              "       [797.44305],\n",
              "       [804.4105 ],\n",
              "       [811.0292 ],\n",
              "       [813.1752 ],\n",
              "       [806.45496]], dtype=float32)"
            ]
          },
          "metadata": {},
          "execution_count": 47
        }
      ]
    },
    {
      "cell_type": "code",
      "metadata": {
        "id": "OFh-EheH_yb_",
        "outputId": "ba4f92d6-5776-4a39-a897-99ff6d3b0a97",
        "colab": {
          "base_uri": "https://localhost:8080/",
          "height": 295
        }
      },
      "source": [
        "# Visualising the stock price \n",
        "plt.plot(predicted_stock_price, color = 'r', label = 'Predicted Google Stock Price')\n",
        "plt.plot(real_stock_price, color = 'g', label = 'Real Google Stock Price')\n",
        "\n",
        "plt.title('Google Stock Price Predictions')\n",
        "\n",
        "plt.xlabel('Time')\n",
        "plt.ylabel('Open Google Stock Price')\n",
        "plt.legend()\n",
        "plt.show()"
      ],
      "execution_count": 48,
      "outputs": [
        {
          "output_type": "display_data",
          "data": {
            "text/plain": [
              "<Figure size 432x288 with 1 Axes>"
            ],
            "image/png": "[encoded data removed]"
          },
          "metadata": {
            "needs_background": "light"
          }
        }
      ]
    },
    {
      "cell_type": "code",
      "metadata": {
        "id": "l_ZAy6P5CBGn",
        "outputId": "ed641afc-bfa4-4087-a54d-0d5870cfa487",
        "colab": {
          "base_uri": "https://localhost:8080/"
        }
      },
      "source": [
        "# Measuring the Error\n",
        "from sklearn.metrics import mean_squared_error, mean_absolute_error\n",
        "\n",
        "mae_acc = mean_absolute_error(y_true = real_stock_price, y_pred = predicted_stock_price)\n",
        "mse_acc = mean_squared_error(y_true = real_stock_price, y_pred = predicted_stock_price)\n",
        "print(\"Mean Absolute Error: {}\".format(mae_acc))\n",
        "print(\"Mean Suared Error: {}\".format(mse_acc))"
      ],
      "execution_count": 49,
      "outputs": [
        {
          "output_type": "stream",
          "name": "stdout",
          "text": [
            "Mean Absolute Error: 18.282288208007806\n",
            "Mean Suared Error: 401.5925152078807\n"
          ]
        }
      ]
    }
  ]
}